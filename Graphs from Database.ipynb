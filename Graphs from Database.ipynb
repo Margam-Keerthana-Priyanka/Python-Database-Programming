{
 "cells": [
  {
   "cell_type": "code",
   "execution_count": 16,
   "metadata": {
    "collapsed": true
   },
   "outputs": [],
   "source": [
    "import sqlite3 as sql,matplotlib.pyplot as plt, matplotlib.dates as mdates\n",
    "from matplotlib import style\n",
    "conn=sqlite3.connect('working.db')\n",
    "c=conn.cursor()\n"
   ]
  },
  {
   "cell_type": "code",
   "execution_count": 39,
   "metadata": {},
   "outputs": [],
   "source": [
    "import datetime\n",
    "def graph_data():\n",
    "    c.execute('select keyword, value from StuffToPlot')\n",
    "    dates=[]\n",
    "    values=[]\n",
    "    for row in c.fetchall():\n",
    "        #print(row[0])\n",
    "        dates.append((row[0]))\n",
    "        print(dates)\n",
    "        values.append(row[1])\n",
    "        \n",
    "    plt.plot_date(dates,values,'-')\n",
    "    plt.show()"
   ]
  },
  {
   "cell_type": "code",
   "execution_count": 40,
   "metadata": {},
   "outputs": [
    {
     "name": "stdout",
     "output_type": "stream",
     "text": [
      "['Python']\n",
      "['Python', 'Python']\n",
      "['Python', 'Python', 'python']\n",
      "['Python', 'Python', 'python', ' python ----------> ------------->']\n"
     ]
    },
    {
     "data": {
      "image/png": "[encoded data removed]",
      "text/plain": [
       "<matplotlib.figure.Figure at 0x541e550>"
      ]
     },
     "metadata": {},
     "output_type": "display_data"
    }
   ],
   "source": [
    "\n",
    "graph_data()"
   ]
  }
 ],
 "metadata": {
  "kernelspec": {
   "display_name": "Python 3",
   "language": "python",
   "name": "python3"
  },
  "language_info": {
   "codemirror_mode": {
    "name": "ipython",
    "version": 3
   },
   "file_extension": ".py",
   "mimetype": "text/x-python",
   "name": "python",
   "nbconvert_exporter": "python",
   "pygments_lexer": "ipython3",
   "version": "3.6.3"
  }
 },
 "nbformat": 4,
 "nbformat_minor": 2
}
