{
 "cells": [
  {
   "cell_type": "code",
   "execution_count": 2,
   "metadata": {
    "collapsed": true
   },
   "outputs": [],
   "source": [
    "import sqlite3\n",
    "\n",
    "with sqlite3.connect('example.db') as db:\n",
    "    pass"
   ]
  },
  {
   "cell_type": "code",
   "execution_count": 3,
   "metadata": {
    "collapsed": true
   },
   "outputs": [],
   "source": [
    "def create_table(dbname,sql):\n",
    "    with sqlite3.connect(dbname) as db:\n",
    "        cursor= db.cursor()\n",
    "        cursor.execute(sql)\n",
    "        db.commit()\n"
   ]
  },
  {
   "cell_type": "code",
   "execution_count": 4,
   "metadata": {
    "collapsed": true
   },
   "outputs": [],
   "source": [
    "if __name__ ==\"__main__\":\n",
    "    dbname=\"coffe_shop.db\"\n",
    "    sql=\"\"\"CREATE TABLE Product(\n",
    "            ProductID integer,\n",
    "            Name text,\n",
    "            Price real,\n",
    "            Primary Key(ProductID))\"\"\""
   ]
  },
  {
   "cell_type": "code",
   "execution_count": 7,
   "metadata": {},
   "outputs": [
    {
     "name": "stdout",
     "output_type": "stream",
     "text": [
      "The table Product already exists, do you wish to remove.. (y/n):y\n",
      "Product table will be recreated - all existing data will be lost:\n"
     ]
    }
   ],
   "source": [
    "def create_table(dbname,table_name,sql):\n",
    "    with sqlite3.connect(dbname) as db:\n",
    "        cursor= db.cursor()\n",
    "        cursor.execute(\"select name from sqlite_master where name=?\",(table_name,))\n",
    "        result=cursor.fetchall()\n",
    "        keep_table=True\n",
    "        if len(result) == 1:\n",
    "            response=input(\"The table {0} already exists, do you wish to remove.. (y/n):\".format(table_name))\n",
    "            if response== 'y':\n",
    "                keep_table=False\n",
    "                print(\"%s table will be recreated - all existing data will be lost:\"%table_name)\n",
    "                cursor.execute(\"drop table if exists {0}\".format(table_name))\n",
    "                db.commit()\n",
    "            else:\n",
    "                print(\"the existing table was kept\")\n",
    "        else:\n",
    "            keep_table=False\n",
    "        if not keep_table:\n",
    "            cursor.execute(sql)\n",
    "            db.commit()\n",
    "\n",
    "if __name__ ==\"__main__\":\n",
    "    dbname=\"coffe_shop.db\"\n",
    "    sql=\"\"\"CREATE TABLE Product(\n",
    "            ProductID integer,\n",
    "            Name text,\n",
    "            Price real,\n",
    "            Primary Key(ProductID))\"\"\"\n",
    "    create_table(dbname,\"Product\",sql)"
   ]
  },
  {
   "cell_type": "code",
   "execution_count": 35,
   "metadata": {},
   "outputs": [
    {
     "data": {
      "text/plain": [
       "[(1, 'sample', 1.3),\n",
       " (2, 'sample', 1.3),\n",
       " (3, 'sample', 1.3),\n",
       " (4, 'sample', 1.3),\n",
       " (5, 'sample', 1.3),\n",
       " (6, 'saple', 1.3),\n",
       " (1233, 'saple', 1.3),\n",
       " (1234, 'string', 1.3)]"
      ]
     },
     "execution_count": 35,
     "metadata": {},
     "output_type": "execute_result"
    }
   ],
   "source": [
    "def fetch_table(dbname):\n",
    "    with sqlite3.connect(dbname) as db:\n",
    "        cursor= db.cursor()\n",
    "        cursor.execute(sql)\n",
    "        result=cursor.fetchall()\n",
    "        return result\n",
    "        \n",
    "if __name__ ==\"__main__\":\n",
    "    dbname=\"coffe_shop.db\"\n",
    "    sql=\"\"\"select * from Product\"\"\"\n",
    "fetch_table(dbname)"
   ]
  },
  {
   "cell_type": "code",
   "execution_count": 15,
   "metadata": {},
   "outputs": [
    {
     "name": "stdout",
     "output_type": "stream",
     "text": [
      "The table Product already exists, do you wish to remove.. (y/n):n\n",
      "the existing table was kept\n"
     ]
    }
   ],
   "source": [
    "def create_table(dbname,table_name,sql):\n",
    "    with sqlite3.connect(dbname) as db:\n",
    "        cursor= db.cursor()\n",
    "        cursor.execute(\"select name from sqlite_master where name=?\",(table_name,))\n",
    "        result=cursor.fetchall()\n",
    "        keep_table=True\n",
    "        if len(result) == 1:\n",
    "            response=input(\"The table {0} already exists, do you wish to remove.. (y/n):\".format(table_name))\n",
    "            if response== 'y':\n",
    "                keep_table=False\n",
    "                print(\"%s table will be recreated - all existing data will be lost:\"%table_name)\n",
    "                cursor.execute(\"drop table if exists {0}\".format(table_name))\n",
    "                db.commit()\n",
    "            else:\n",
    "                print(\"the existing table was kept\")\n",
    "        else:\n",
    "            keep_table=False\n",
    "        if not keep_table:\n",
    "            cursor.execute(sql)\n",
    "            print(\"table {0} created \".format(table_name))\n",
    "            db.commit()\n",
    "\n",
    "if __name__ ==\"__main__\":\n",
    "    dbname=\"coffe_shop.db\"\n",
    "    sql=\"\"\"CREATE TABLE Product(\n",
    "            ProductID integer,\n",
    "            Name text,\n",
    "            Price real,\n",
    "            Primary Key(ProductID))\"\"\"\n",
    "create_table(dbname,\"Product\",sql)"
   ]
  },
  {
   "cell_type": "code",
   "execution_count": 32,
   "metadata": {
    "collapsed": true
   },
   "outputs": [],
   "source": [
    "def insert_table(values):\n",
    "    with sqlite3.connect(dbname) as db:\n",
    "        cursor= db.cursor()\n",
    "        sql=\"\"\"insert into Product (Name,Price) values(?,?) \"\"\"\n",
    "        cursor.execute(sql,values)\n",
    "        db.commit()\n",
    "        fetch_table(dbname)\n",
    "        \n",
    "        \n",
    "if __name__ ==\"__main__\":\n",
    "    values=('string',1.3)\n",
    "    insert_table(values)"
   ]
  }
 ],
 "metadata": {
  "kernelspec": {
   "display_name": "Python 3",
   "language": "python",
   "name": "python3"
  },
  "language_info": {
   "codemirror_mode": {
    "name": "ipython",
    "version": 3
   },
   "file_extension": ".py",
   "mimetype": "text/x-python",
   "name": "python",
   "nbconvert_exporter": "python",
   "pygments_lexer": "ipython3",
   "version": "3.6.3"
  }
 },
 "nbformat": 4,
 "nbformat_minor": 2
}
