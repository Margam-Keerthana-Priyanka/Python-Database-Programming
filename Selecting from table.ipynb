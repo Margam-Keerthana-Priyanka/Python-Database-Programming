{
 "cells": [
  {
   "cell_type": "code",
   "execution_count": 1,
   "metadata": {},
   "outputs": [],
   "source": [
    "import sqlite3\n",
    "conn=sqlite3.connect('working.db')\n",
    "c=conn.cursor()\n",
    "\n",
    "    "
   ]
  },
  {
   "cell_type": "code",
   "execution_count": 2,
   "metadata": {
    "collapsed": true
   },
   "outputs": [],
   "source": [
    "def read_table():\n",
    "    c.execute('SELECT * FROM stuffToPlot')\n",
    "    data=c.fetchall()\n",
    "    print(data)"
   ]
  },
  {
   "cell_type": "code",
   "execution_count": 3,
   "metadata": {},
   "outputs": [
    {
     "name": "stdout",
     "output_type": "stream",
     "text": [
      "[(123, '2018-02-02', 'Python', 123456), (123, '2018-02-02', 'Python', 123456), (1519599560.2291641, '2018-02-25 16:59:20', 'python', b''), (1519599594.1930957, '2018-02-25 16:59:54', ' python ----------> ------------->', b'')]\n"
     ]
    }
   ],
   "source": [
    "read_table()"
   ]
  },
  {
   "cell_type": "code",
   "execution_count": 6,
   "metadata": {
    "collapsed": true
   },
   "outputs": [],
   "source": [
    "def read_table2():\n",
    "    c.execute('SELECT * FROM stuffToPlot')\n",
    "    for row in c.fetchall():\n",
    "        print(row)"
   ]
  },
  {
   "cell_type": "code",
   "execution_count": 7,
   "metadata": {},
   "outputs": [
    {
     "name": "stdout",
     "output_type": "stream",
     "text": [
      "(123, '2018-02-02', 'Python', 123456)\n",
      "(123, '2018-02-02', 'Python', 123456)\n",
      "(1519599560.2291641, '2018-02-25 16:59:20', 'python', b'')\n",
      "(1519599594.1930957, '2018-02-25 16:59:54', ' python ----------> ------------->', b'')\n"
     ]
    }
   ],
   "source": [
    "read_table2()"
   ]
  },
  {
   "cell_type": "code",
   "execution_count": 14,
   "metadata": {},
   "outputs": [],
   "source": [
    "def read_table3():\n",
    "    c.execute(input('type sql command here:\\n'))\n",
    "    for row in c.fetchall():\n",
    "              print(row)"
   ]
  },
  {
   "cell_type": "code",
   "execution_count": 15,
   "metadata": {},
   "outputs": [
    {
     "name": "stdout",
     "output_type": "stream",
     "text": [
      "type sql command here:\n",
      "select * from StuffToPlot where unix=\"123\"\n",
      "(123, '2018-02-02', 'Python', 123456)\n",
      "(123, '2018-02-02', 'Python', 123456)\n"
     ]
    }
   ],
   "source": [
    "read_table3()"
   ]
  }
 ],
 "metadata": {
  "kernelspec": {
   "display_name": "Python 3",
   "language": "python",
   "name": "python3"
  },
  "language_info": {
   "codemirror_mode": {
    "name": "ipython",
    "version": 3
   },
   "file_extension": ".py",
   "mimetype": "text/x-python",
   "name": "python",
   "nbconvert_exporter": "python",
   "pygments_lexer": "ipython3",
   "version": "3.6.3"
  }
 },
 "nbformat": 4,
 "nbformat_minor": 2
}
