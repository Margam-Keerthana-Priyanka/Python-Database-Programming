{
 "cells": [
  {
   "cell_type": "code",
   "execution_count": 1,
   "metadata": {
    "collapsed": true
   },
   "outputs": [],
   "source": [
    "import sqlite3 \n",
    "conn=sqlite3.connect('working.db')\n",
    "c=conn.cursor()"
   ]
  },
  {
   "cell_type": "code",
   "execution_count": 67,
   "metadata": {},
   "outputs": [],
   "source": [
    "def del_upd():\n",
    "    c.execute('select * from stuffToPlot')\n",
    "    [print(row) for row in c.fetchall()]\n",
    "    c.execute(\"Update stuffToPlot set value =101 where value=100\")\n",
    "    conn.commit()\n",
    "    print('<--------- Updated ------------->')\n",
    "    c.execute('select * from stuffToPlot')\n",
    "    [print(row) for row in c.fetchall()]\n",
    "    conn.commit()\n",
    "\n",
    "    c.execute('Delete from stuffToPlot where value= 101')\n",
    "    [print(row) for row in c.fetchall()]\n",
    "    conn.commit()\n",
    "    print('<---------- Deleted ------------->')\n",
    "    c.execute('select * from stuffToPlot')\n",
    "    [print(row) for row in c.fetchall()]\n",
    "    conn.commit()\n",
    "    \n",
    "    "
   ]
  },
  {
   "cell_type": "code",
   "execution_count": 68,
   "metadata": {},
   "outputs": [
    {
     "name": "stdout",
     "output_type": "stream",
     "text": [
      "(1519599560.2291641, '2018-02-25 16:59:20', 'python', b'')\n",
      "(1519599594.1930957, '2018-02-25 16:59:54', ' python ----------> ------------->', b'')\n",
      "(1519769425.0865874, '2018-02-27 16:10:25', 'python----------->', b'')\n",
      "(1519769598.0318313, '2018-02-27 16:13:18', 'python', b'')\n",
      "(1519769689.4011548, '2018-02-27 16:14:49', 'cool dude', b'')\n",
      "(1519769725.3590162, '2018-02-27 16:15:25', 'cool dude', b'')\n",
      "(1519769745.486604, '2018-02-27 16:15:45', 'ds', 100)\n",
      "(1519769761.7284818, '2018-02-27 16:16:01', 'ml', 100)\n",
      "(1519769767.6081269, '2018-02-27 16:16:07', 'python fr ds', 100)\n",
      "(1519769773.0781684, '2018-02-27 16:16:13', 'mchin leraning', 100)\n",
      "(1519769784.0803397, '2018-02-27 16:16:24', 'subject', 1123)\n",
      "<--------- Updated ------------->\n",
      "(1519599560.2291641, '2018-02-25 16:59:20', 'python', b'')\n",
      "(1519599594.1930957, '2018-02-25 16:59:54', ' python ----------> ------------->', b'')\n",
      "(1519769425.0865874, '2018-02-27 16:10:25', 'python----------->', b'')\n",
      "(1519769598.0318313, '2018-02-27 16:13:18', 'python', b'')\n",
      "(1519769689.4011548, '2018-02-27 16:14:49', 'cool dude', b'')\n",
      "(1519769725.3590162, '2018-02-27 16:15:25', 'cool dude', b'')\n",
      "(1519769745.486604, '2018-02-27 16:15:45', 'ds', 101)\n",
      "(1519769761.7284818, '2018-02-27 16:16:01', 'ml', 101)\n",
      "(1519769767.6081269, '2018-02-27 16:16:07', 'python fr ds', 101)\n",
      "(1519769773.0781684, '2018-02-27 16:16:13', 'mchin leraning', 101)\n",
      "(1519769784.0803397, '2018-02-27 16:16:24', 'subject', 1123)\n",
      "<---------- Deleted ------------->\n",
      "(1519599560.2291641, '2018-02-25 16:59:20', 'python', b'')\n",
      "(1519599594.1930957, '2018-02-25 16:59:54', ' python ----------> ------------->', b'')\n",
      "(1519769425.0865874, '2018-02-27 16:10:25', 'python----------->', b'')\n",
      "(1519769598.0318313, '2018-02-27 16:13:18', 'python', b'')\n",
      "(1519769689.4011548, '2018-02-27 16:14:49', 'cool dude', b'')\n",
      "(1519769725.3590162, '2018-02-27 16:15:25', 'cool dude', b'')\n",
      "(1519769784.0803397, '2018-02-27 16:16:24', 'subject', 1123)\n"
     ]
    }
   ],
   "source": [
    "del_upd()"
   ]
  },
  {
   "cell_type": "code",
   "execution_count": 24,
   "metadata": {},
   "outputs": [],
   "source": [
    "def del_upd2():\n",
    "    c.execute('select * from stuffToPlot')\n",
    "    [print(row) for row in c.fetchall()]\n",
    "    \n",
    "    c.execute('Update %d stuffToPlot set value=200 where unix=123',(input('enter value')))"
   ]
  },
  {
   "cell_type": "code",
   "execution_count": 25,
   "metadata": {},
   "outputs": [
    {
     "name": "stdout",
     "output_type": "stream",
     "text": [
      "(123, '2018-02-02', 'Python', 123456)\n",
      "(123, '2018-02-02', 'Python', 123456)\n",
      "(1519599560.2291641, '2018-02-25 16:59:20', 'python', b'')\n",
      "(1519599594.1930957, '2018-02-25 16:59:54', ' python ----------> ------------->', b'')\n",
      "enter valueunix\n"
     ]
    },
    {
     "ename": "OperationalError",
     "evalue": "near \"%\": syntax error",
     "output_type": "error",
     "traceback": [
      "\u001b[1;31m---------------------------------------------------------------------------\u001b[0m",
      "\u001b[1;31mOperationalError\u001b[0m                          Traceback (most recent call last)",
      "\u001b[1;32m<ipython-input-25-683cbd83c7c5>\u001b[0m in \u001b[0;36m<module>\u001b[1;34m()\u001b[0m\n\u001b[1;32m----> 1\u001b[1;33m \u001b[0mdel_upd\u001b[0m\u001b[1;33m(\u001b[0m\u001b[1;33m)\u001b[0m\u001b[1;33m\u001b[0m\u001b[0m\n\u001b[0m",
      "\u001b[1;32m<ipython-input-24-88ea1aaef4f5>\u001b[0m in \u001b[0;36mdel_upd\u001b[1;34m()\u001b[0m\n\u001b[0;32m      3\u001b[0m     \u001b[1;33m[\u001b[0m\u001b[0mprint\u001b[0m\u001b[1;33m(\u001b[0m\u001b[0mrow\u001b[0m\u001b[1;33m)\u001b[0m \u001b[1;32mfor\u001b[0m \u001b[0mrow\u001b[0m \u001b[1;32min\u001b[0m \u001b[0mc\u001b[0m\u001b[1;33m.\u001b[0m\u001b[0mfetchall\u001b[0m\u001b[1;33m(\u001b[0m\u001b[1;33m)\u001b[0m\u001b[1;33m]\u001b[0m\u001b[1;33m\u001b[0m\u001b[0m\n\u001b[0;32m      4\u001b[0m \u001b[1;33m\u001b[0m\u001b[0m\n\u001b[1;32m----> 5\u001b[1;33m     \u001b[0mc\u001b[0m\u001b[1;33m.\u001b[0m\u001b[0mexecute\u001b[0m\u001b[1;33m(\u001b[0m\u001b[1;34m'Update %d stuffToPlot set value=200 where unix=123'\u001b[0m\u001b[1;33m,\u001b[0m\u001b[1;33m(\u001b[0m\u001b[0minput\u001b[0m\u001b[1;33m(\u001b[0m\u001b[1;34m'enter value'\u001b[0m\u001b[1;33m)\u001b[0m\u001b[1;33m)\u001b[0m\u001b[1;33m)\u001b[0m\u001b[1;33m\u001b[0m\u001b[0m\n\u001b[0m",
      "\u001b[1;31mOperationalError\u001b[0m: near \"%\": syntax error"
     ]
    }
   ],
   "source": [
    "del_upd2()"
   ]
  },
  {
   "cell_type": "code",
   "execution_count": null,
   "metadata": {
    "collapsed": true
   },
   "outputs": [],
   "source": []
  },
  {
   "cell_type": "code",
   "execution_count": 6,
   "metadata": {},
   "outputs": [
    {
     "name": "stdout",
     "output_type": "stream",
     "text": [
      "(123, '2018-02-02', 'Python', 123456)\n",
      "(123, '2018-02-02', 'Python', 123456)\n",
      "(1519599560.2291641, '2018-02-25 16:59:20', 'python', b'')\n",
      "(1519599594.1930957, '2018-02-25 16:59:54', ' python ----------> ------------->', b'')\n"
     ]
    }
   ],
   "source": [
    "del_upd()"
   ]
  }
 ],
 "metadata": {
  "kernelspec": {
   "display_name": "Python 3",
   "language": "python",
   "name": "python3"
  },
  "language_info": {
   "codemirror_mode": {
    "name": "ipython",
    "version": 3
   },
   "file_extension": ".py",
   "mimetype": "text/x-python",
   "name": "python",
   "nbconvert_exporter": "python",
   "pygments_lexer": "ipython3",
   "version": "3.6.3"
  }
 },
 "nbformat": 4,
 "nbformat_minor": 2
}
